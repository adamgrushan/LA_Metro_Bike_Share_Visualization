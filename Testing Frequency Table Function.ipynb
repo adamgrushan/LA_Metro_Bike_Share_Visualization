{
 "cells": [
  {
   "cell_type": "code",
   "execution_count": null,
   "metadata": {},
   "outputs": [],
   "source": [
    "# This file tests a function I wrote to return counts for unqiue values in a column (a frequency table)"
   ]
  },
  {
   "cell_type": "code",
   "execution_count": 1,
   "metadata": {},
   "outputs": [],
   "source": [
    "import numpy as np\n",
    "import pandas as pd\n",
    "import matplotlib.pyplot as plt\n",
    "from csv import reader"
   ]
  },
  {
   "cell_type": "code",
   "execution_count": 2,
   "metadata": {},
   "outputs": [],
   "source": [
    "# read in data\n",
    "opened_file = open('Data/metro-bike-share-trips-2020-q1.csv')\n",
    "read_file = reader(opened_file)\n",
    "bike_data = list(read_file)"
   ]
  },
  {
   "cell_type": "code",
   "execution_count": 6,
   "metadata": {},
   "outputs": [
    {
     "output_type": "execute_result",
     "data": {
      "text/plain": "[['trip_id',\n  'duration',\n  'start_time',\n  'end_time',\n  'start_station',\n  'start_lat',\n  'start_lon',\n  'end_station',\n  'end_lat',\n  'end_lon',\n  'bike_id',\n  'plan_duration',\n  'trip_route_category',\n  'passholder_type',\n  'bike_type']]"
     },
     "metadata": {},
     "execution_count": 6
    }
   ],
   "source": [
    "# review column headers\n",
    "bike_data[0:1]"
   ]
  },
  {
   "cell_type": "code",
   "execution_count": 28,
   "metadata": {},
   "outputs": [
    {
     "output_type": "execute_result",
     "data": {
      "text/plain": "{'Monthly Pass': 51560,\n 'One Day Pass': 4280,\n 'Walk-up': 10921,\n 'Annual Pass': 9614,\n 'Testing': 16}"
     },
     "metadata": {},
     "execution_count": 28
    }
   ],
   "source": [
    "ft = freq_table(bike_data, 13)\n",
    "ft"
   ]
  },
  {
   "cell_type": "code",
   "execution_count": 22,
   "metadata": {},
   "outputs": [],
   "source": [
    "# define function which returns frequency table for a specific column of our data\n",
    "def freq_table(data_set, index):\n",
    "    frequency_table = {}\n",
    "\n",
    "    for row in data_set[1:]:\n",
    "        key = row[index]\n",
    "        if key in frequency_table:\n",
    "            frequency_table[key] += 1\n",
    "        else:\n",
    "            frequency_table[key] = 1\n",
    "            \n",
    "    return frequency_table"
   ]
  },
  {
   "cell_type": "code",
   "execution_count": 24,
   "metadata": {},
   "outputs": [
    {
     "output_type": "execute_result",
     "data": {
      "text/plain": "{'One Way': 67095, 'Round Trip': 9296}"
     },
     "metadata": {},
     "execution_count": 24
    }
   ],
   "source": [
    "trip_route_category_ft = freq_table(bike_data, 12)\n",
    "passholder_type_ft = freq_table(bike_data, 13)\n",
    "bike_type_ft = freq_table(bike_data, 14)\n",
    "\n",
    "trip_route_category_ft\n",
    "\n"
   ]
  },
  {
   "cell_type": "code",
   "execution_count": null,
   "metadata": {},
   "outputs": [],
   "source": []
  },
  {
   "cell_type": "code",
   "execution_count": null,
   "metadata": {},
   "outputs": [],
   "source": []
  }
 ],
 "metadata": {
  "language_info": {
   "codemirror_mode": {
    "name": "ipython",
    "version": 2
   },
   "file_extension": ".py",
   "mimetype": "text/x-python",
   "name": "python",
   "nbconvert_exporter": "python",
   "pygments_lexer": "ipython2",
   "version": "3.8.2-final"
  },
  "orig_nbformat": 2,
  "kernelspec": {
   "name": "python38264bit137125f4a8cb471993a1d5900d281b29",
   "display_name": "Python 3.8.2 64-bit"
  }
 },
 "nbformat": 4,
 "nbformat_minor": 2
}